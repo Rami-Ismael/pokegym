{
 "cells": [
  {
   "cell_type": "code",
   "execution_count": 4,
   "metadata": {},
   "outputs": [
    {
     "name": "stdout",
     "output_type": "stream",
     "text": [
      "24 is divisible by 24 and 24 / 24 = 1.0\n",
      "48 is divisible by 24 and 48 / 24 = 2.0\n",
      "96 is divisible by 24 and 96 / 24 = 4.0\n",
      "192 is divisible by 24 and 192 / 24 = 8.0\n",
      "384 is divisible by 24 and 384 / 24 = 16.0\n"
     ]
    }
   ],
   "source": [
    "\n",
    "import math\n",
    "bath_size = 131072\n",
    "for x in range( 1 , 768):\n",
    "    if x % 24 == 0 and bath_size % (x / 24) == 0:\n",
    "        print(f\"{x} is divisible by 24 and {x} / 24 = {x / 24}\")\n",
    "# pufferlib.exceptions.APIUsageError: batch_size must be divisible by (num_envs / num_workers)"
   ]
  },
  {
   "cell_type": "code",
   "execution_count": 2,
   "metadata": {},
   "outputs": [
    {
     "name": "stdout",
     "output_type": "stream",
     "text": [
      "4096.0\n",
      "8192.0\n",
      "16384.0\n",
      "32768.0\n",
      "65536.0\n",
      "131072.0\n",
      "262144.0\n",
      "524288.0\n",
      "1048576\n"
     ]
    }
   ],
   "source": [
    "import math\n",
    "for x in range(12 , 20):\n",
    "    print(math.pow(2,x))\n",
    "print(2**20)"
   ]
  }
 ],
 "metadata": {
  "kernelspec": {
   "display_name": "ais",
   "language": "python",
   "name": "python3"
  },
  "language_info": {
   "codemirror_mode": {
    "name": "ipython",
    "version": 3
   },
   "file_extension": ".py",
   "mimetype": "text/x-python",
   "name": "python",
   "nbconvert_exporter": "python",
   "pygments_lexer": "ipython3",
   "version": "3.10.13"
  }
 },
 "nbformat": 4,
 "nbformat_minor": 2
}
