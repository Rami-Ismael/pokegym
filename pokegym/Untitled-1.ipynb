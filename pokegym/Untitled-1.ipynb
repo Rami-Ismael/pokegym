{
 "cells": [
  {
   "cell_type": "code",
   "execution_count": 22,
   "metadata": {},
   "outputs": [
    {
     "ename": "KeyboardInterrupt",
     "evalue": "",
     "output_type": "error",
     "traceback": [
      "\u001b[0;31m---------------------------------------------------------------------------\u001b[0m",
      "\u001b[0;31mKeyboardInterrupt\u001b[0m                         Traceback (most recent call last)",
      "Cell \u001b[0;32mIn[22], line 28\u001b[0m\n\u001b[1;32m     25\u001b[0m state_data\u001b[38;5;241m.\u001b[39mseek(\u001b[38;5;241m0\u001b[39m)\n\u001b[1;32m     26\u001b[0m game\u001b[38;5;241m.\u001b[39mload_state(state_data)\n\u001b[0;32m---> 28\u001b[0m \u001b[38;5;28;01mwhile\u001b[39;00m \u001b[43mgame\u001b[49m\u001b[38;5;241;43m.\u001b[39;49m\u001b[43mtick\u001b[49m\u001b[43m(\u001b[49m\u001b[43m)\u001b[49m:\n\u001b[1;32m     29\u001b[0m     \u001b[38;5;28;01mpass\u001b[39;00m\n",
      "\u001b[0;31mKeyboardInterrupt\u001b[0m: "
     ]
    }
   ],
   "source": [
    "from io import BytesIO\n",
    "from pyboy import PyBoy\n",
    "import os\n",
    "ROM_PATH = \"Bulbasaur_fast_text_no_battle_animations_fixed_battle.state\"\n",
    "gb_path='pokemon_red.gb'\n",
    "assert os.path.exists(gb_path), f\"Could not find {gb_path}\"\n",
    "#assert os.path.exists(os.path.join(os.path.dirname(__file__), \"pokered.sym\")), \"Could not find pokered.sym\"  \n",
    "\n",
    "game = PyBoy(\n",
    "    gb_path,\n",
    "    sound = False , \n",
    "    window = \"SDL2\" ,\n",
    "    log_level = \"CRITICAL\" , \n",
    ")\n",
    "\n",
    "# Load the game_state \n",
    "#pyboy_game_state_path_file = 'environment.py' + 'Bulbasaur_fast_text_no_battle_animations_fixed_battle.state'\n",
    "import os\n",
    "pyboy_game_state_path_file = os.path.join(os.getcwd() ,  \"Bulbasaur_fast_text_no_battle_animations_fixed_battle.state\")\n",
    "assert os.path.exists(pyboy_game_state_path_file), f\"Could not find {pyboy_game_state_path_file}\"\n",
    "## Open the State files\n",
    "with open(pyboy_game_state_path_file, \"rb\") as f:\n",
    "    state_data = BytesIO(f.read())\n",
    "\n",
    "state_data.seek(0)\n",
    "game.load_state(state_data)\n",
    "\n",
    "while game.tick():\n",
    "    pass"
   ]
  },
  {
   "cell_type": "code",
   "execution_count": 25,
   "metadata": {},
   "outputs": [],
   "source": [
    "from environment import Environment\n",
    "env = Environment(rom_path='pokemon_red.gb', \n",
    "                  state_path=None, headless=False,\n",
    "    disable_input=False, sound=False, sound_emulated=False, verbose=True,\n",
    "    window = \"SDL2\"\n",
    ")"
   ]
  }
 ],
 "metadata": {
  "kernelspec": {
   "display_name": "ais",
   "language": "python",
   "name": "python3"
  },
  "language_info": {
   "codemirror_mode": {
    "name": "ipython",
    "version": 3
   },
   "file_extension": ".py",
   "mimetype": "text/x-python",
   "name": "python",
   "nbconvert_exporter": "python",
   "pygments_lexer": "ipython3",
   "version": "3.11.9"
  }
 },
 "nbformat": 4,
 "nbformat_minor": 2
}
